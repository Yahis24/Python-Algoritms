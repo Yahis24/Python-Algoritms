{
 "cells": [
  {
   "cell_type": "markdown",
   "id": "9fde7747",
   "metadata": {},
   "source": [
    "# #Python Program N° 1  TAX CALCULATOR\n",
    "Created by Yahaira Tituaña according to PCEP"
   ]
  },
  {
   "cell_type": "markdown",
   "id": "4a66b2ab",
   "metadata": {},
   "source": [
    "Once upon a time there was a land - a land of milk and honey, inhabited by happy and prosperous people. The people paid taxes, of course - their happiness had limits. The most important tax, called the Personal Income Tax (PIT for short) had to be paid once a year, and was evaluated using the following rule:\n",
    "\n",
    "if the citizen's income was not higher than 85,528 thalers, the tax was equal to 18% of the income minus 556 thalers and 2 cents (this was the so-called tax relief)\n",
    "if the income was higher than this amount, the tax was equal to 14,839 thalers and 2 cents, plus 32% of the surplus over 85,528 thalers."
   ]
  },
  {
   "cell_type": "code",
   "execution_count": null,
   "id": "6ff93599",
   "metadata": {},
   "outputs": [],
   "source": [
    "income=float(input(\"Please enter your income: \"))\n",
    "if income <= 85528:\n",
    "    PIT=round(0.18*income-556.02,0)\n",
    "    if PIT <=0:\n",
    "        PIT=0\n",
    "else:\n",
    "    income>85528\n",
    "    PIT=round(14839.02+0.32*(income-85528),0)\n",
    "    if PIT <=0:\n",
    "        PIT=0\n",
    "print(\"Your Personal Income Tax is: \",PIT)\n"
   ]
  },
  {
   "cell_type": "markdown",
   "id": "41d26ee3",
   "metadata": {},
   "source": [
    "# ## #Python Program N° 2 LEAP OR COMMON YEAR\n",
    "Created by Yahaira Tituaña according to PCEP"
   ]
  },
  {
   "cell_type": "code",
   "execution_count": 7,
   "id": "373ac659",
   "metadata": {},
   "outputs": [
    {
     "name": "stdout",
     "output_type": "stream",
     "text": [
      "Please enter the year: 1580\n",
      "Not within the Gregorian calendar period\n"
     ]
    }
   ],
   "source": [
    "year=int(input(\"Please enter the year: \"))\n",
    "if year>=1582:\n",
    "    if year%4!=0:\n",
    "        print(\"The year \",year,\"is common.\")\n",
    "    elif year%100!=0:\n",
    "        print(\"The year \",year,\"is leap.\")\n",
    "    elif year%400!=0:\n",
    "        print(\"The year \",year,\"is common.\")\n",
    "    else:\n",
    "        print(\"The year \",year,\"is leap.\")\n",
    "        \n",
    "else:\n",
    "    print(\"Not within the Gregorian calendar period\")"
   ]
  }
 ],
 "metadata": {
  "kernelspec": {
   "display_name": "Python 3",
   "language": "python",
   "name": "python3"
  },
  "language_info": {
   "codemirror_mode": {
    "name": "ipython",
    "version": 3
   },
   "file_extension": ".py",
   "mimetype": "text/x-python",
   "name": "python",
   "nbconvert_exporter": "python",
   "pygments_lexer": "ipython3",
   "version": "3.8.8"
  }
 },
 "nbformat": 4,
 "nbformat_minor": 5
}
